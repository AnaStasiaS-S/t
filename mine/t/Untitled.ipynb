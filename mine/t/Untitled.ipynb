{
 "cells": [
  {
   "cell_type": "code",
   "execution_count": 7,
   "id": "5d4453d3-38c6-4aca-93df-38448cd053b0",
   "metadata": {
    "tags": []
   },
   "outputs": [],
   "source": [
    "# from typing import Callable, Dict, List, Optional, Tuple, Type, Union\n",
    "\n",
    "from typing import Tuple, Callable\n",
    "\n",
    "import gymnasium as gym\n",
    "from gymnasium import spaces\n",
    "# import tensorflow as tf\n",
    "from torch import nn\n",
    "import torch as th\n",
    "import os\n",
    "\n",
    "from stable_baselines3 import PPO\n",
    "# from stable_baselines3.common.callbacks import BaseCallback\n",
    "from stable_baselines3.common.policies import ActorCriticPolicy\n",
    "\n",
    "# from stable_baselines3.common.monitor import Monitor"
   ]
  },
  {
   "cell_type": "code",
   "execution_count": 8,
   "id": "37ec2953-a8a3-45e0-8ead-24ac9e9c2a9f",
   "metadata": {
    "tags": []
   },
   "outputs": [],
   "source": [
    "# https://stable-baselines3.readthedocs.io/en/master/guide/custom_policy.html\n",
    "\n",
    "class ResNet(nn.Module):\n",
    "    def __init__(self, module):\n",
    "        super().__init__()\n",
    "        self.module = module\n",
    "\n",
    "    def forward(self, inputs):\n",
    "        return self.module(inputs) + inputs\n",
    "    \n",
    "class CustomNetwork(nn.Module):\n",
    "    \"\"\"\n",
    "    Custom network for policy and value function.\n",
    "    It receives as input the features extracted by the features extractor.\n",
    "\n",
    "    :param feature_dim: dimension of the features extracted with the features_extractor (e.g. features from a CNN)\n",
    "    :param last_layer_dim_pi: (int) number of units for the last layer of the policy network\n",
    "    :param last_layer_dim_vf: (int) number of units for the last layer of the value network\n",
    "    \"\"\"\n",
    "\n",
    "    def __init__(\n",
    "        self,\n",
    "        feature_dim: int,\n",
    "        f_layer_dim_pi: int = 36,\n",
    "        f_layer_dim_vf: int = 36,\n",
    "        m_layer_dim_pi: int = 36,\n",
    "        m_layer_dim_vf: int = 36,\n",
    "        last_layer_dim_pi: int = 64,\n",
    "        last_layer_dim_vf: int = 64,\n",
    "    ):\n",
    "        super().__init__()\n",
    "\n",
    "        # IMPORTANT:\n",
    "        # Save output dimensions, used to create the distributions\n",
    "        self.latent_dim_pi = last_layer_dim_pi\n",
    "        self.latent_dim_vf = last_layer_dim_vf\n",
    "\n",
    "        # Policy network\n",
    "        self.policy_net = nn.Sequential(\n",
    "            nn.Linear(feature_dim, f_layer_dim_pi), nn.LeakyReLU(),\n",
    "            ResNet(nn.Sequential(                \n",
    "                nn.Linear(f_layer_dim_pi, m_layer_dim_pi), nn.ReLU()  ,\n",
    "                nn.Dropout(0.2),\n",
    "                nn.BatchNorm1d(m_layer_dim_pi),\n",
    "                nn.Linear(m_layer_dim_pi, m_layer_dim_pi), nn.ReLU()\n",
    "            )),\n",
    "                nn.Linear(m_layer_dim_pi, last_layer_dim_pi), nn.ReLU()\n",
    "        )\n",
    "        # Value network\n",
    "        self.value_net = nn.Sequential(\n",
    "            nn.Linear(feature_dim, f_layer_dim_vf), nn.LeakyReLU(),\n",
    "            ResNet(nn.Sequential(                \n",
    "                nn.Linear(f_layer_dim_vf, m_layer_dim_vf), nn.ReLU()  ,\n",
    "                nn.Dropout(0.2),\n",
    "                nn.BatchNorm1d(m_layer_dim_vf),\n",
    "                nn.Linear(m_layer_dim_vf, m_layer_dim_vf), nn.ReLU()\n",
    "            )),\n",
    "                nn.Linear(m_layer_dim_vf, last_layer_dim_vf), nn.ReLU()\n",
    "        )\n",
    "\n",
    "    def forward(self, features: th.Tensor) -> Tuple[th.Tensor, th.Tensor]:\n",
    "        \"\"\"\n",
    "        :return: (th.Tensor, th.Tensor) latent_policy, latent_value of the specified network.\n",
    "            If all layers are shared, then ``latent_policy == latent_value``\n",
    "        \"\"\"\n",
    "        return self.forward_actor(features), self.forward_critic(features)\n",
    "\n",
    "    def forward_actor(self, features: th.Tensor) -> th.Tensor:\n",
    "        return self.policy_net(features)\n",
    "\n",
    "    def forward_critic(self, features: th.Tensor) -> th.Tensor:\n",
    "        return self.value_net(features)\n",
    "\n",
    "\n",
    "class CustomActorCriticPolicy(ActorCriticPolicy):\n",
    "    def __init__(\n",
    "        self,\n",
    "        observation_space: spaces.Space,\n",
    "        action_space: spaces.Space,\n",
    "        lr_schedule: Callable[[float], float],\n",
    "        *args,\n",
    "        **kwargs,\n",
    "    ):\n",
    "        # Disable orthogonal initialization\n",
    "        kwargs[\"ortho_init\"] = False\n",
    "        super().__init__(\n",
    "            observation_space,\n",
    "            action_space,\n",
    "            lr_schedule,\n",
    "            # Pass remaining arguments to base class\n",
    "            *args,\n",
    "            **kwargs,\n",
    "        )\n",
    "\n",
    "\n",
    "    def _build_mlp_extractor(self) -> None:\n",
    "        self.mlp_extractor = CustomNetwork(self.features_dim)"
   ]
  },
  {
   "cell_type": "code",
   "execution_count": 25,
   "id": "1ee577e2-1a8e-4c36-92ca-328df70d6c6a",
   "metadata": {
    "jupyter": {
     "source_hidden": true
    },
    "tags": []
   },
   "outputs": [],
   "source": [
    "class TensorboardCallback(BaseCallback):\n",
    "    \"\"\"\n",
    "    Custom callback for plotting additional values in tensorboard.\n",
    "    \"\"\"\n",
    "\n",
    "    def __init__(self, verbose=0):\n",
    "        super(TensorboardCallback, self).__init__(verbose)\n",
    "\n",
    "    def _on_step(self) -> bool:                \n",
    "        self.logger.record('reward', self.training_env.get_attr('total_reward')[0])\n",
    "\n",
    "        return True"
   ]
  },
  {
   "cell_type": "code",
   "execution_count": 9,
   "id": "3ccface6-9d0a-4ebb-8aa3-2136fce36c24",
   "metadata": {
    "tags": []
   },
   "outputs": [
    {
     "name": "stdout",
     "output_type": "stream",
     "text": [
      "Using cpu device\n",
      "Wrapping the env with a `Monitor` wrapper\n",
      "Wrapping the env in a DummyVecEnv.\n",
      "---------------------------------\n",
      "| rollout/           |          |\n",
      "|    ep_len_mean     | 21.9     |\n",
      "|    ep_rew_mean     | 21.9     |\n",
      "| time/              |          |\n",
      "|    fps             | 1271     |\n",
      "|    iterations      | 1        |\n",
      "|    time_elapsed    | 1        |\n",
      "|    total_timesteps | 2048     |\n",
      "---------------------------------\n",
      "----------------------------------------\n",
      "| rollout/                |            |\n",
      "|    ep_len_mean          | 28.4       |\n",
      "|    ep_rew_mean          | 28.4       |\n",
      "| time/                   |            |\n",
      "|    fps                  | 831        |\n",
      "|    iterations           | 2          |\n",
      "|    time_elapsed         | 4          |\n",
      "|    total_timesteps      | 4096       |\n",
      "| train/                  |            |\n",
      "|    approx_kl            | 0.01519261 |\n",
      "|    clip_fraction        | 0.15       |\n",
      "|    clip_range           | 0.2        |\n",
      "|    entropy_loss         | -0.683     |\n",
      "|    explained_variance   | 0.00518    |\n",
      "|    learning_rate        | 0.0003     |\n",
      "|    loss                 | 3.34       |\n",
      "|    n_updates            | 10         |\n",
      "|    policy_gradient_loss | -0.0178    |\n",
      "|    value_loss           | 41.2       |\n",
      "----------------------------------------\n",
      "----------------------------------------\n",
      "| rollout/                |            |\n",
      "|    ep_len_mean          | 40.9       |\n",
      "|    ep_rew_mean          | 40.9       |\n",
      "| time/                   |            |\n",
      "|    fps                  | 754        |\n",
      "|    iterations           | 3          |\n",
      "|    time_elapsed         | 8          |\n",
      "|    total_timesteps      | 6144       |\n",
      "| train/                  |            |\n",
      "|    approx_kl            | 0.01607585 |\n",
      "|    clip_fraction        | 0.172      |\n",
      "|    clip_range           | 0.2        |\n",
      "|    entropy_loss         | -0.659     |\n",
      "|    explained_variance   | 0.338      |\n",
      "|    learning_rate        | 0.0003     |\n",
      "|    loss                 | 11.3       |\n",
      "|    n_updates            | 20         |\n",
      "|    policy_gradient_loss | -0.0203    |\n",
      "|    value_loss           | 31.3       |\n",
      "----------------------------------------\n"
     ]
    },
    {
     "data": {
      "text/plain": [
       "<stable_baselines3.ppo.ppo.PPO at 0x2225b9924d0>"
      ]
     },
     "execution_count": 9,
     "metadata": {},
     "output_type": "execute_result"
    }
   ],
   "source": [
    "# Create log dir\n",
    "# log_dir = \"tmp/\"\n",
    "# os.makedirs(log_dir, exist_ok=True)\n",
    "\n",
    "env = gym.make('CartPole-v1')\n",
    "# env = Monitor(env, log_dir)\n",
    "model = PPO(CustomActorCriticPolicy, env, verbose=1)\n",
    "\n",
    "\n",
    "\n",
    "model.learn(5000)"
   ]
  },
  {
   "cell_type": "code",
   "execution_count": 47,
   "id": "09329294-5574-4da6-b476-1bb78ccba521",
   "metadata": {
    "tags": []
   },
   "outputs": [
    {
     "name": "stdout",
     "output_type": "stream",
     "text": [
      "[1000.]\n"
     ]
    }
   ],
   "source": [
    "vec_env = model.get_env()\n",
    "obs = vec_env.reset()\n",
    "\n",
    "R = 0\n",
    "for i in range(1000):\n",
    "    action, _state = model.predict(obs, deterministic=True)\n",
    "    obs, reward, done, info = vec_env.step(action)\n",
    "    R += reward\n",
    "print(R)\n",
    "    # vec_env.render(\"human\")"
   ]
  },
  {
   "cell_type": "code",
   "execution_count": null,
   "id": "85a407e8-608d-472c-ad5c-bcde2b91aad6",
   "metadata": {},
   "outputs": [],
   "source": []
  }
 ],
 "metadata": {
  "kernelspec": {
   "display_name": "mbrl",
   "language": "python",
   "name": "mbrl"
  },
  "language_info": {
   "codemirror_mode": {
    "name": "ipython",
    "version": 3
   },
   "file_extension": ".py",
   "mimetype": "text/x-python",
   "name": "python",
   "nbconvert_exporter": "python",
   "pygments_lexer": "ipython3",
   "version": "3.10.7"
  }
 },
 "nbformat": 4,
 "nbformat_minor": 5
}
